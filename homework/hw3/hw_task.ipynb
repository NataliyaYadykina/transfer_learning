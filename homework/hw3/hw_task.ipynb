{
  "nbformat": 4,
  "nbformat_minor": 0,
  "metadata": {
    "colab": {
      "provenance": [],
      "gpuType": "T4"
    },
    "kernelspec": {
      "name": "python3",
      "display_name": "Python 3"
    },
    "language_info": {
      "name": "python"
    },
    "accelerator": "GPU"
  },
  "cells": [
    {
      "cell_type": "markdown",
      "source": [
        "# Домашнее задание\n",
        "\n",
        "Реализуйте классификацию эмоциональной окрашенности текстов при помощи объекта pipeline.\n",
        "\n",
        "1. Найдите тип задач Sentiment Analysis на huggingface.co\n",
        "2. Найдите модель для русского языка (примеры: rubert-tiny2..., rubert-base...)"
      ],
      "metadata": {
        "id": "dwlfshGK5rkm"
      }
    },
    {
      "cell_type": "markdown",
      "source": [
        "# Выбранная модель для классификации эмоциональной окрашенности\n",
        "\n",
        "cointegrated/rubert-tiny2-cedr-emotion-detection"
      ],
      "metadata": {
        "id": "BCNBk9Qw5x1O"
      }
    },
    {
      "cell_type": "code",
      "execution_count": 5,
      "metadata": {
        "colab": {
          "base_uri": "https://localhost:8080/"
        },
        "id": "bPiMy7Zg22PT",
        "outputId": "cecdb2d9-23d4-4d18-831e-b17430336061"
      },
      "outputs": [
        {
          "output_type": "execute_result",
          "data": {
            "text/plain": [
              "[{'label': 'joy', 'score': 0.9640980958938599},\n",
              " {'label': 'sadness', 'score': 0.7847777009010315},\n",
              " {'label': 'joy', 'score': 0.94639652967453},\n",
              " {'label': 'no_emotion', 'score': 0.9646849632263184},\n",
              " {'label': 'joy', 'score': 0.9142256379127502},\n",
              " {'label': 'sadness', 'score': 0.9618656039237976}]"
            ]
          },
          "metadata": {},
          "execution_count": 5
        }
      ],
      "source": [
        "from transformers import pipeline\n",
        "\n",
        "classifier = pipeline(\n",
        "    \"text-classification\",\n",
        "    model=\"cointegrated/rubert-tiny2-cedr-emotion-detection\"\n",
        ")\n",
        "\n",
        "classifier([\n",
        "    \"Отличный товар\",\n",
        "    \"Мне не понравилосьЮ ужасно\",\n",
        "    \"Прекрасно выглядит\",\n",
        "    \"Ничего не понял\",\n",
        "    \"У меня не работала розетка, в остальном все отлично\",\n",
        "    \"Бракованный товар. Больше не буду здесь покупать, я разочарован\"\n",
        "])"
      ]
    }
  ]
}